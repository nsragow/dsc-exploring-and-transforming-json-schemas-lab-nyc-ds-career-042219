{
 "cells": [
  {
   "cell_type": "markdown",
   "metadata": {},
   "source": [
    "# Exploring and Transforming JSON Schemas"
   ]
  },
  {
   "cell_type": "markdown",
   "metadata": {},
   "source": [
    "# Introduction\n",
    "\n",
    "In this lesson, you'll formalize how to explore a JSON file whose structure and schema is unknown to you. This often happens in practice when you are handed a file or stumble upon one with little documentation."
   ]
  },
  {
   "cell_type": "markdown",
   "metadata": {},
   "source": [
    "## Objectives\n",
    "You will be able to:\n",
    "* Explore unknown JSON schemas\n",
    "* Access and manipulate data inside a JSON file\n",
    "* Convert JSON to alternative data formats"
   ]
  },
  {
   "cell_type": "markdown",
   "metadata": {},
   "source": [
    "## Loading the JSON file\n",
    "\n",
    "Load the data from the file disease_data.json."
   ]
  },
  {
   "cell_type": "code",
   "execution_count": 2,
   "metadata": {},
   "outputs": [],
   "source": [
    "#Your code here \n",
    "import json\n",
    "data = json.load(open(\"disease_data.json\"))"
   ]
  },
  {
   "cell_type": "markdown",
   "metadata": {},
   "source": [
    "## Explore the first and second levels of the schema hierarchy"
   ]
  },
  {
   "cell_type": "code",
   "execution_count": 6,
   "metadata": {},
   "outputs": [
    {
     "data": {
      "text/plain": [
       "dict"
      ]
     },
     "execution_count": 6,
     "metadata": {},
     "output_type": "execute_result"
    }
   ],
   "source": [
    "#Your code here\n",
    "data.__class__"
   ]
  },
  {
   "cell_type": "code",
   "execution_count": 35,
   "metadata": {},
   "outputs": [],
   "source": [
    "column_dicts = data[\"meta\"][\"view\"][\"columns\"][8:]"
   ]
  },
  {
   "cell_type": "code",
   "execution_count": 12,
   "metadata": {},
   "outputs": [],
   "source": [
    "import pandas as pd\n",
    "df = pd.DataFrame(data[\"data\"])\n"
   ]
  },
  {
   "cell_type": "markdown",
   "metadata": {},
   "source": [
    "## Convert to a DataFrame\n",
    "\n",
    "Create a DataFrame from the JSON file. Be sure to retrive the column names for the dataframe. (Search within the 'meta' key of the master dictionary.) The DataFrame should include all 42 columns."
   ]
  },
  {
   "cell_type": "code",
   "execution_count": 28,
   "metadata": {},
   "outputs": [],
   "source": [
    "#Your code here\n",
    "df_sliced = df.iloc[:,8:].head()"
   ]
  },
  {
   "cell_type": "code",
   "execution_count": 29,
   "metadata": {},
   "outputs": [
    {
     "data": {
      "text/html": [
       "<div>\n",
       "<style scoped>\n",
       "    .dataframe tbody tr th:only-of-type {\n",
       "        vertical-align: middle;\n",
       "    }\n",
       "\n",
       "    .dataframe tbody tr th {\n",
       "        vertical-align: top;\n",
       "    }\n",
       "\n",
       "    .dataframe thead th {\n",
       "        text-align: right;\n",
       "    }\n",
       "</style>\n",
       "<table border=\"1\" class=\"dataframe\">\n",
       "  <thead>\n",
       "    <tr style=\"text-align: right;\">\n",
       "      <th></th>\n",
       "      <th>8</th>\n",
       "      <th>9</th>\n",
       "      <th>10</th>\n",
       "      <th>11</th>\n",
       "      <th>12</th>\n",
       "      <th>13</th>\n",
       "      <th>14</th>\n",
       "      <th>15</th>\n",
       "      <th>16</th>\n",
       "      <th>17</th>\n",
       "      <th>...</th>\n",
       "      <th>32</th>\n",
       "      <th>33</th>\n",
       "      <th>34</th>\n",
       "      <th>35</th>\n",
       "      <th>36</th>\n",
       "      <th>37</th>\n",
       "      <th>38</th>\n",
       "      <th>39</th>\n",
       "      <th>40</th>\n",
       "      <th>41</th>\n",
       "    </tr>\n",
       "  </thead>\n",
       "  <tbody>\n",
       "    <tr>\n",
       "      <th>0</th>\n",
       "      <td>2016</td>\n",
       "      <td>2016</td>\n",
       "      <td>US</td>\n",
       "      <td>United States</td>\n",
       "      <td>BRFSS</td>\n",
       "      <td>Alcohol</td>\n",
       "      <td>Binge drinking prevalence among adults aged &gt;=...</td>\n",
       "      <td>None</td>\n",
       "      <td>%</td>\n",
       "      <td>Crude Prevalence</td>\n",
       "      <td>...</td>\n",
       "      <td>59</td>\n",
       "      <td>ALC</td>\n",
       "      <td>ALC2_2</td>\n",
       "      <td>CRDPREV</td>\n",
       "      <td>OVERALL</td>\n",
       "      <td>OVR</td>\n",
       "      <td>None</td>\n",
       "      <td>None</td>\n",
       "      <td>None</td>\n",
       "      <td>None</td>\n",
       "    </tr>\n",
       "    <tr>\n",
       "      <th>1</th>\n",
       "      <td>2016</td>\n",
       "      <td>2016</td>\n",
       "      <td>AL</td>\n",
       "      <td>Alabama</td>\n",
       "      <td>BRFSS</td>\n",
       "      <td>Alcohol</td>\n",
       "      <td>Binge drinking prevalence among adults aged &gt;=...</td>\n",
       "      <td>None</td>\n",
       "      <td>%</td>\n",
       "      <td>Crude Prevalence</td>\n",
       "      <td>...</td>\n",
       "      <td>01</td>\n",
       "      <td>ALC</td>\n",
       "      <td>ALC2_2</td>\n",
       "      <td>CRDPREV</td>\n",
       "      <td>OVERALL</td>\n",
       "      <td>OVR</td>\n",
       "      <td>None</td>\n",
       "      <td>None</td>\n",
       "      <td>None</td>\n",
       "      <td>None</td>\n",
       "    </tr>\n",
       "    <tr>\n",
       "      <th>2</th>\n",
       "      <td>2016</td>\n",
       "      <td>2016</td>\n",
       "      <td>AK</td>\n",
       "      <td>Alaska</td>\n",
       "      <td>BRFSS</td>\n",
       "      <td>Alcohol</td>\n",
       "      <td>Binge drinking prevalence among adults aged &gt;=...</td>\n",
       "      <td>None</td>\n",
       "      <td>%</td>\n",
       "      <td>Crude Prevalence</td>\n",
       "      <td>...</td>\n",
       "      <td>02</td>\n",
       "      <td>ALC</td>\n",
       "      <td>ALC2_2</td>\n",
       "      <td>CRDPREV</td>\n",
       "      <td>OVERALL</td>\n",
       "      <td>OVR</td>\n",
       "      <td>None</td>\n",
       "      <td>None</td>\n",
       "      <td>None</td>\n",
       "      <td>None</td>\n",
       "    </tr>\n",
       "    <tr>\n",
       "      <th>3</th>\n",
       "      <td>2016</td>\n",
       "      <td>2016</td>\n",
       "      <td>AZ</td>\n",
       "      <td>Arizona</td>\n",
       "      <td>BRFSS</td>\n",
       "      <td>Alcohol</td>\n",
       "      <td>Binge drinking prevalence among adults aged &gt;=...</td>\n",
       "      <td>None</td>\n",
       "      <td>%</td>\n",
       "      <td>Crude Prevalence</td>\n",
       "      <td>...</td>\n",
       "      <td>04</td>\n",
       "      <td>ALC</td>\n",
       "      <td>ALC2_2</td>\n",
       "      <td>CRDPREV</td>\n",
       "      <td>OVERALL</td>\n",
       "      <td>OVR</td>\n",
       "      <td>None</td>\n",
       "      <td>None</td>\n",
       "      <td>None</td>\n",
       "      <td>None</td>\n",
       "    </tr>\n",
       "    <tr>\n",
       "      <th>4</th>\n",
       "      <td>2016</td>\n",
       "      <td>2016</td>\n",
       "      <td>AR</td>\n",
       "      <td>Arkansas</td>\n",
       "      <td>BRFSS</td>\n",
       "      <td>Alcohol</td>\n",
       "      <td>Binge drinking prevalence among adults aged &gt;=...</td>\n",
       "      <td>None</td>\n",
       "      <td>%</td>\n",
       "      <td>Crude Prevalence</td>\n",
       "      <td>...</td>\n",
       "      <td>05</td>\n",
       "      <td>ALC</td>\n",
       "      <td>ALC2_2</td>\n",
       "      <td>CRDPREV</td>\n",
       "      <td>OVERALL</td>\n",
       "      <td>OVR</td>\n",
       "      <td>None</td>\n",
       "      <td>None</td>\n",
       "      <td>None</td>\n",
       "      <td>None</td>\n",
       "    </tr>\n",
       "  </tbody>\n",
       "</table>\n",
       "<p>5 rows × 34 columns</p>\n",
       "</div>"
      ],
      "text/plain": [
       "     8     9   10             11     12       13  \\\n",
       "0  2016  2016  US  United States  BRFSS  Alcohol   \n",
       "1  2016  2016  AL        Alabama  BRFSS  Alcohol   \n",
       "2  2016  2016  AK         Alaska  BRFSS  Alcohol   \n",
       "3  2016  2016  AZ        Arizona  BRFSS  Alcohol   \n",
       "4  2016  2016  AR       Arkansas  BRFSS  Alcohol   \n",
       "\n",
       "                                                  14    15 16  \\\n",
       "0  Binge drinking prevalence among adults aged >=...  None  %   \n",
       "1  Binge drinking prevalence among adults aged >=...  None  %   \n",
       "2  Binge drinking prevalence among adults aged >=...  None  %   \n",
       "3  Binge drinking prevalence among adults aged >=...  None  %   \n",
       "4  Binge drinking prevalence among adults aged >=...  None  %   \n",
       "\n",
       "                 17  ...   32   33      34       35       36   37    38    39  \\\n",
       "0  Crude Prevalence  ...   59  ALC  ALC2_2  CRDPREV  OVERALL  OVR  None  None   \n",
       "1  Crude Prevalence  ...   01  ALC  ALC2_2  CRDPREV  OVERALL  OVR  None  None   \n",
       "2  Crude Prevalence  ...   02  ALC  ALC2_2  CRDPREV  OVERALL  OVR  None  None   \n",
       "3  Crude Prevalence  ...   04  ALC  ALC2_2  CRDPREV  OVERALL  OVR  None  None   \n",
       "4  Crude Prevalence  ...   05  ALC  ALC2_2  CRDPREV  OVERALL  OVR  None  None   \n",
       "\n",
       "     40    41  \n",
       "0  None  None  \n",
       "1  None  None  \n",
       "2  None  None  \n",
       "3  None  None  \n",
       "4  None  None  \n",
       "\n",
       "[5 rows x 34 columns]"
      ]
     },
     "execution_count": 29,
     "metadata": {},
     "output_type": "execute_result"
    }
   ],
   "source": [
    "df_sliced.head()"
   ]
  },
  {
   "cell_type": "markdown",
   "metadata": {},
   "source": [
    "## Level-Up\n",
    "## Create a bar graph of states with the highest asthma rates for adults age 18+"
   ]
  },
  {
   "cell_type": "markdown",
   "metadata": {},
   "source": [
    "## Level-Up!\n",
    "## Create a function (or class) that returns an outline of the schema structure like this: \n",
    "<img src=\"images/outline.jpg\" width=\"350\">\n",
    "\n",
    "Rules:\n",
    "* Your outline should follow the numbering outline above (I, A, 1, a, i).\n",
    "* Your outline should be properly indented! (Four spaces or one tab per indentation level.)\n",
    "* Your function goes to at least a depth of 5 (Level-up: create a parameter so that the user can specify this)\n",
    "* If an entry is a dictionary, list its keys as the subheadings\n",
    "* After listing a key name (where applicable) include a space, a dash and the data type of the entry\n",
    "* If an entry is a dict or list put in parentheses how many items are in the entry\n",
    "* lists will not have key names for their entries (they're just indexed)\n",
    "* For subheadings of a list, state their datatypes. \n",
    "* If a dictionary or list is more then 5 items long, only show the first 5 (we want to limit our previews); make an arbitrary order choice for dictionaries. (Level-up: Parallel to above; allow user to specify number of items to preview for large subheading collections.)"
   ]
  },
  {
   "cell_type": "code",
   "execution_count": null,
   "metadata": {},
   "outputs": [],
   "source": [
    "# Your code here; you will probably want to define subfunctions.\n",
    "def print_obj_outline(json_obj):\n",
    "    return outline"
   ]
  },
  {
   "cell_type": "code",
   "execution_count": 22,
   "metadata": {
    "collapsed": true
   },
   "outputs": [],
   "source": [
    "outline = print_obj_outline(data)"
   ]
  },
  {
   "cell_type": "code",
   "execution_count": 23,
   "metadata": {},
   "outputs": [
    {
     "name": "stdout",
     "output_type": "stream",
     "text": [
      "I. root - <class 'dict'> (2 items)\n",
      "    A. meta <class 'dict'> (1 items)\n",
      "        1. view <class 'dict'> (40 items)\n",
      "            a. id <class 'str'> \n",
      "            b. name <class 'str'> \n",
      "            c. attribution <class 'str'> \n",
      "            d. attributionLink <class 'str'> \n",
      "            e. averageRating <class 'int'> \n",
      "    B. data <class 'list'> (60266 items)\n",
      "        1. <class 'list'> (42 items)\n",
      "            a. <class 'int'> \n",
      "            b. <class 'str'> \n",
      "            c. <class 'int'> \n",
      "            d. <class 'int'> \n",
      "            e. <class 'str'> \n",
      "        2. <class 'list'> (42 items)\n",
      "            a. <class 'int'> \n",
      "            b. <class 'str'> \n",
      "            c. <class 'int'> \n",
      "            d. <class 'int'> \n",
      "            e. <class 'str'> \n",
      "        3. <class 'list'> (42 items)\n",
      "            a. <class 'int'> \n",
      "            b. <class 'str'> \n",
      "            c. <class 'int'> \n",
      "            d. <class 'int'> \n",
      "            e. <class 'str'> \n",
      "        4. <class 'list'> (42 items)\n",
      "            a. <class 'int'> \n",
      "            b. <class 'str'> \n",
      "            c. <class 'int'> \n",
      "            d. <class 'int'> \n",
      "            e. <class 'str'> \n",
      "        5. <class 'list'> (42 items)\n",
      "            a. <class 'int'> \n",
      "            b. <class 'str'> \n",
      "            c. <class 'int'> \n",
      "            d. <class 'int'> \n",
      "            e. <class 'str'> \n"
     ]
    }
   ],
   "source": [
    "print(outline) #Your function should produce the following output for this json object (and work for all json files!)"
   ]
  },
  {
   "cell_type": "markdown",
   "metadata": {},
   "source": [
    "## Summary\n",
    "\n",
    "Well done! In this lab you got some extended practice exploring the structure of JSON files and writing a recursive generalized function for outlining a JSON file's schema! "
   ]
  }
 ],
 "metadata": {
  "kernelspec": {
   "display_name": "Python 3",
   "language": "python",
   "name": "python3"
  },
  "language_info": {
   "codemirror_mode": {
    "name": "ipython",
    "version": 3
   },
   "file_extension": ".py",
   "mimetype": "text/x-python",
   "name": "python",
   "nbconvert_exporter": "python",
   "pygments_lexer": "ipython3",
   "version": "3.6.6"
  }
 },
 "nbformat": 4,
 "nbformat_minor": 2
}
